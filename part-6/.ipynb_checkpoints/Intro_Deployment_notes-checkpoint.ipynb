{
 "cells": [
  {
   "cell_type": "markdown",
   "metadata": {},
   "source": [
    "#### Workflow\n",
    "\n",
    "<img src=\"part-6_images/ml_workflow.png\" alt=\"Machine Learning workflow\" style=\"width: 500px;\">"
   ]
  },
  {
   "cell_type": "markdown",
   "metadata": {},
   "source": [
    "SageMaker workflow: https://docs.aws.amazon.com/sagemaker/latest/dg/how-it-works-mlconcepts.html\n",
    "\n",
    "GCP workflow: https://cloud.google.com/ml-engine/docs/tensorflow/ml-solutions-overview\n",
    "\n",
    "Azure workflow: https://docs.microsoft.com/en-us/azure/machine-learning/service/overview-what-is-azure-ml"
   ]
  },
  {
   "cell_type": "markdown",
   "metadata": {},
   "source": [
    "#### Cloud computing\n",
    "\n",
    "*Benefits of Cloud Computing*\n",
    "\n",
    "- Reduced Investments and Proportional Costs (providing cost reduction)\n",
    "- Increased Scalability (providing simplified capacity planning)\n",
    "- Increased Availability and Reliability (providing organizational agility)\n",
    "\n",
    "*Risks*\n",
    "\n",
    "- (Potential) Increase in Security Vulnerabilities\n",
    "- Reduced Operational Governance Control (over cloud resources)\n",
    "- Limited Portability Between Cloud Providers\n",
    "- Multi-regional Compliance and Legal Issues\n"
   ]
  },
  {
   "cell_type": "markdown",
   "metadata": {},
   "source": [
    "#### Paths to Deployment:\n",
    "\n",
    "1. Python model is recoded into the programming language of the production environment.\n",
    "2. Model is coded in Predictive Model Markup Language (PMML) or Portable Format Analytics (PFA).\n",
    "3. Python model is converted into a format that can be used in the production environment.\n",
    "\n",
    "The third path is the most popular used at the moment.\n",
    "\n",
    "e.g. The third method that's most similar to what’s used for deployment within Amazon’s SageMaker.\n",
    "\n",
    "Most popular machine learning software frameworks, like PyTorch, TensorFlow, SciKit-Learn, have methods that will convert Python models into intermediate standard format"
   ]
  },
  {
   "cell_type": "markdown",
   "metadata": {},
   "source": [
    "#### Production Environments\n",
    "\n",
    "Production Environment is just the application that customers use to receive predictions from the deployed model.\n",
    "\n",
    "<img src=\"part-6_images/prod_environment.png\" alt=\"Production environment\" style=\"width: 500px;\"/>"
   ]
  },
  {
   "cell_type": "markdown",
   "metadata": {},
   "source": [
    "#### Production Environment and the Endpoint\n",
    "\n",
    "The endpoint is an interface that:\n",
    "\n",
    "- Allows the application to send user data to the model and\n",
    "- Receives predictions back from the model based upon that user data.\n",
    "\n",
    "One way to think of the endpoint that acts as this interface, is to think of a Python program where:\n",
    "\n",
    "- the endpoint itself is like a function call\n",
    "- the function itself would be the model and\n",
    "- the Python program is the application.\n",
    "\n",
    "<img src=\"part-6_images/endpointprogram-2.png\" alt=\"Endpoint as a program\" style=\"width: 500px;\"/>\n",
    "\n",
    "#### Endpoint and REST API\n",
    "\n",
    "Communication between the application and the model is done through the endpoint is an API. \n",
    "- An API is a set of rules that enable programs to communicate with each other\n",
    "- The API uses a REST framework that uses HTTP requests and responses to enable communication"
   ]
  }
 ],
 "metadata": {
  "kernelspec": {
   "display_name": "Python 3",
   "language": "python",
   "name": "python3"
  },
  "language_info": {
   "codemirror_mode": {
    "name": "ipython",
    "version": 3
   },
   "file_extension": ".py",
   "mimetype": "text/x-python",
   "name": "python",
   "nbconvert_exporter": "python",
   "pygments_lexer": "ipython3",
   "version": "3.6.8"
  }
 },
 "nbformat": 4,
 "nbformat_minor": 2
}

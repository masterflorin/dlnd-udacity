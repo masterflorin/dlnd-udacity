{
 "cells": [
  {
   "cell_type": "markdown",
   "metadata": {},
   "source": [
    "# Skip-gram Word2Vec\n",
    "\n",
    "In this notebook, I'll lead you through using PyTorch to implement the [Word2Vec algorithm](https://en.wikipedia.org/wiki/Word2vec) using the skip-gram architecture. By implementing this, you'll learn about embedding words for use in natural language processing. This will come in handy when dealing with things like machine translation.\n",
    "\n",
    "## Readings\n",
    "\n",
    "Here are the resources I used to build this notebook. I suggest reading these either beforehand or while you're working on this material.\n",
    "\n",
    "* A really good [conceptual overview](http://mccormickml.com/2016/04/19/word2vec-tutorial-the-skip-gram-model/) of Word2Vec from Chris McCormick \n",
    "* [First Word2Vec paper](https://arxiv.org/pdf/1301.3781.pdf) from Mikolov et al.\n",
    "* [Neural Information Processing Systems, paper](http://papers.nips.cc/paper/5021-distributed-representations-of-words-and-phrases-and-their-compositionality.pdf) with improvements for Word2Vec also from Mikolov et al.\n",
    "\n",
    "---\n",
    "## Word embeddings\n",
    "\n",
    "When you're dealing with words in text, you end up with tens of thousands of word classes to analyze; one for each word in a vocabulary. Trying to one-hot encode these words is massively inefficient because most values in a one-hot vector will be set to zero. So, the matrix multiplication that happens in between a one-hot input vector and a first, hidden layer will result in mostly zero-valued hidden outputs.\n",
    "\n",
    "<img src='assets/one_hot_encoding.png' width=50%>\n",
    "\n",
    "To solve this problem and greatly increase the efficiency of our networks, we use what are called **embeddings**. Embeddings are just a fully connected layer like you've seen before. We call this layer the embedding layer and the weights are embedding weights. We skip the multiplication into the embedding layer by instead directly grabbing the hidden layer values from the weight matrix. We can do this because the multiplication of a one-hot encoded vector with a matrix returns the row of the matrix corresponding the index of the \"on\" input unit.\n",
    "\n",
    "<img src='assets/lookup_matrix.png' width=50%>\n",
    "\n",
    "Instead of doing the matrix multiplication, we use the weight matrix as a lookup table. We encode the words as integers, for example \"heart\" is encoded as 958, \"mind\" as 18094. Then to get hidden layer values for \"heart\", you just take the 958th row of the embedding matrix. This process is called an **embedding lookup** and the number of hidden units is the **embedding dimension**.\n",
    "\n",
    "<img src='assets/tokenize_lookup.png' width=50%>\n",
    " \n",
    "There is nothing magical going on here. The embedding lookup table is just a weight matrix. The embedding layer is just a hidden layer. The lookup is just a shortcut for the matrix multiplication. The lookup table is trained just like any weight matrix.\n",
    "\n",
    "Embeddings aren't only used for words of course. You can use them for any model where you have a massive number of classes. A particular type of model called **Word2Vec** uses the embedding layer to find vector representations of words that contain semantic meaning."
   ]
  },
  {
   "cell_type": "markdown",
   "metadata": {},
   "source": [
    "---\n",
    "## Word2Vec\n",
    "\n",
    "The Word2Vec algorithm finds much more efficient representations by finding vectors that represent the words. These vectors also contain semantic information about the words.\n",
    "\n",
    "<img src=\"assets/context_drink.png\" width=40%>\n",
    "\n",
    "Words that show up in similar **contexts**, such as \"coffee\", \"tea\", and \"water\" will have vectors near each other. Different words will be further away from one another, and relationships can be represented by distance in vector space.\n",
    "\n",
    "<img src=\"assets/vector_distance.png\" width=40%>\n",
    "\n",
    "\n",
    "There are two architectures for implementing Word2Vec:\n",
    ">* CBOW (Continuous Bag-Of-Words) and \n",
    "* Skip-gram\n",
    "\n",
    "<img src=\"assets/word2vec_architectures.png\" width=60%>\n",
    "\n",
    "In this implementation, we'll be using the **skip-gram architecture** because it performs better than CBOW. Here, we pass in a word and try to predict the words surrounding it in the text. In this way, we can train the network to learn representations for words that show up in similar contexts."
   ]
  },
  {
   "cell_type": "markdown",
   "metadata": {},
   "source": [
    "---\n",
    "## Loading Data\n",
    "\n",
    "Next, we'll ask you to load in data and place it in the `data` directory\n",
    "\n",
    "1. Load the [text8 dataset](https://s3.amazonaws.com/video.udacity-data.com/topher/2018/October/5bbe6499_text8/text8.zip); a file of cleaned up *Wikipedia article text* from Matt Mahoney. \n",
    "2. Place that data in the `data` folder in the home directory.\n",
    "3. Then you can extract it and delete the archive, zip file to save storage space.\n",
    "\n",
    "After following these steps, you should have one file in your data directory: `data/text8`."
   ]
  },
  {
   "cell_type": "code",
   "execution_count": 1,
   "metadata": {},
   "outputs": [
    {
     "name": "stdout",
     "output_type": "stream",
     "text": [
      " anarchism originated as a term of abuse first used against early working class radicals including t\n"
     ]
    }
   ],
   "source": [
    "# read in the extracted text file      \n",
    "with open('data/text8') as f:\n",
    "    text = f.read()\n",
    "\n",
    "# print out the first 100 characters\n",
    "print(text[:100])"
   ]
  },
  {
   "cell_type": "markdown",
   "metadata": {},
   "source": [
    "## Pre-processing\n",
    "\n",
    "Here I'm fixing up the text to make training easier. This comes from the `utils.py` file. The `preprocess` function does a few things:\n",
    ">* It converts any punctuation into tokens, so a period is changed to ` <PERIOD> `. In this data set, there aren't any periods, but it will help in other NLP problems. \n",
    "* It removes all words that show up five or *fewer* times in the dataset. This will greatly reduce issues due to noise in the data and improve the quality of the vector representations. \n",
    "* It returns a list of words in the text.\n",
    "\n",
    "This may take a few seconds to run, since our text file is quite large. If you want to write your own functions for this stuff, go for it!"
   ]
  },
  {
   "cell_type": "code",
   "execution_count": 2,
   "metadata": {},
   "outputs": [
    {
     "name": "stdout",
     "output_type": "stream",
     "text": [
      "['anarchism', 'originated', 'as', 'a', 'term', 'of', 'abuse', 'first', 'used', 'against', 'early', 'working', 'class', 'radicals', 'including', 'the', 'diggers', 'of', 'the', 'english', 'revolution', 'and', 'the', 'sans', 'culottes', 'of', 'the', 'french', 'revolution', 'whilst']\n"
     ]
    }
   ],
   "source": [
    "import utils\n",
    "\n",
    "# get list of words\n",
    "words = utils.preprocess(text)\n",
    "print(words[:30])"
   ]
  },
  {
   "cell_type": "code",
   "execution_count": 3,
   "metadata": {},
   "outputs": [
    {
     "name": "stdout",
     "output_type": "stream",
     "text": [
      "Total words in text: 16680599\n",
      "Unique words: 63641\n"
     ]
    }
   ],
   "source": [
    "# print some stats about this word data\n",
    "print(\"Total words in text: {}\".format(len(words)))\n",
    "print(\"Unique words: {}\".format(len(set(words)))) # `set` removes any duplicate words"
   ]
  },
  {
   "cell_type": "markdown",
   "metadata": {},
   "source": [
    "### Dictionaries\n",
    "\n",
    "Next, I'm creating two dictionaries to convert words to integers and back again (integers to words). This is again done with a function in the `utils.py` file. `create_lookup_tables` takes in a list of words in a text and returns two dictionaries.\n",
    ">* The integers are assigned in descending frequency order, so the most frequent word (\"the\") is given the integer 0 and the next most frequent is 1, and so on. \n",
    "\n",
    "Once we have our dictionaries, the words are converted to integers and stored in the list `int_words`."
   ]
  },
  {
   "cell_type": "code",
   "execution_count": 4,
   "metadata": {},
   "outputs": [
    {
     "name": "stdout",
     "output_type": "stream",
     "text": [
      "[5233, 3080, 11, 5, 194, 1, 3133, 45, 58, 155, 127, 741, 476, 10571, 133, 0, 27349, 1, 0, 102, 854, 2, 0, 15067, 58112, 1, 0, 150, 854, 3580]\n"
     ]
    }
   ],
   "source": [
    "vocab_to_int, int_to_vocab = utils.create_lookup_tables(words)\n",
    "int_words = [vocab_to_int[word] for word in words]\n",
    "\n",
    "print(int_words[:30])"
   ]
  },
  {
   "cell_type": "markdown",
   "metadata": {},
   "source": [
    "## Subsampling\n",
    "\n",
    "Words that show up often such as \"the\", \"of\", and \"for\" don't provide much context to the nearby words. If we discard some of them, we can remove some of the noise from our data and in return get faster training and better representations. This process is called subsampling by Mikolov. For each word $w_i$ in the training set, we'll discard it with probability given by \n",
    "\n",
    "$$ P(w_i) = 1 - \\sqrt{\\frac{t}{f(w_i)}} $$\n",
    "\n",
    "where $t$ is a threshold parameter and $f(w_i)$ is the frequency of word $w_i$ in the total dataset.\n",
    "\n",
    "$$ P(0) = 1 - \\sqrt{\\frac{1*10^{-5}}{1*10^6/16*10^6}} = 0.98735 $$\n",
    "\n",
    "I'm going to leave this up to you as an exercise. Check out my solution to see how I did it.\n",
    "\n",
    "> **Exercise:** Implement subsampling for the words in `int_words`. That is, go through `int_words` and discard each word given the probablility $P(w_i)$ shown above. Note that $P(w_i)$ is the probability that a word is discarded. Assign the subsampled data to `train_words`."
   ]
  },
  {
   "cell_type": "code",
   "execution_count": 5,
   "metadata": {},
   "outputs": [
    {
     "name": "stdout",
     "output_type": "stream",
     "text": [
      "[3133, 741, 476, 10571, 27349, 854, 15067, 58112, 3580, 10712, 104, 362, 7088, 5233, 44611, 5233, 19, 2621, 8983, 4147, 6437, 4186, 362, 1818, 4860, 6753, 7573, 1774, 11064, 11]\n"
     ]
    }
   ],
   "source": [
    "from collections import Counter\n",
    "import random\n",
    "import numpy as np\n",
    "\n",
    "threshold = 1e-5\n",
    "word_counts = Counter(int_words)\n",
    "#print(list(word_counts.items())[0])  # dictionary of int_words, how many times they appear\n",
    "\n",
    "# discard some frequent words, according to the subsampling equation\n",
    "# create a new list of words for training\n",
    "total_count = len(int_words)\n",
    "freqs = {word: count/total_count for word, count in word_counts.items()}\n",
    "p_drop = {word: 1 - np.sqrt(threshold/freqs[word]) for word in word_counts}\n",
    "train_words = [word for word in int_words if random.random() < (1 - p_drop[word])]\n",
    "\n",
    "print(train_words[:30])"
   ]
  },
  {
   "cell_type": "markdown",
   "metadata": {},
   "source": [
    "## Making batches"
   ]
  },
  {
   "cell_type": "markdown",
   "metadata": {},
   "source": [
    "Now that our data is in good shape, we need to get it into the proper form to pass it into our network. With the skip-gram architecture, for each word in the text, we want to define a surrounding _context_ and grab all the words in a window around that word, with size $C$. \n",
    "\n",
    "From [Mikolov et al.](https://arxiv.org/pdf/1301.3781.pdf): \n",
    "\n",
    "\"Since the more distant words are usually less related to the current word than those close to it, we give less weight to the distant words by sampling less from those words in our training examples... If we choose $C = 5$, for each training word we will select randomly a number $R$ in range $[ 1: C ]$, and then use $R$ words from history and $R$ words from the future of the current word as correct labels.\"\n",
    "\n",
    "> **Exercise:** Implement a function `get_target` that receives a list of words, an index, and a window size, then returns a list of words in the window around the index. Make sure to use the algorithm described above, where you chose a random number of words to from the window.\n",
    "\n",
    "Say, we have an input and we're interested in the idx=2 token, `741`: \n",
    "```\n",
    "[5233, 58, 741, 10571, 27349, 0, 15067, 58112, 3580, 58, 10712]\n",
    "```\n",
    "\n",
    "For `R=2`, `get_target` should return a list of four values:\n",
    "```\n",
    "[5233, 58, 10571, 27349]\n",
    "```"
   ]
  },
  {
   "cell_type": "code",
   "execution_count": 6,
   "metadata": {},
   "outputs": [],
   "source": [
    "def get_target(words, idx, window_size=5):\n",
    "    ''' Get a list of words in a window around an index. '''\n",
    "    \n",
    "    # implement this function\n",
    "    R = np.random.randint(1, window_size+1)\n",
    "    start = idx - R if (idx - R) > 0 else 0\n",
    "    stop =  idx + R\n",
    "    target = words[start:idx] + words[idx+1:stop+1]\n",
    "    \n",
    "    return list(target)"
   ]
  },
  {
   "cell_type": "code",
   "execution_count": 7,
   "metadata": {},
   "outputs": [
    {
     "name": "stdout",
     "output_type": "stream",
     "text": [
      "Input:  [0, 1, 2, 3, 4, 5, 6, 7, 8, 9]\n",
      "Target:  [4, 6]\n"
     ]
    }
   ],
   "source": [
    "# test your code!\n",
    "\n",
    "# run this cell multiple times to check for random window selection\n",
    "int_text = [i for i in range(10)]\n",
    "print('Input: ', int_text)\n",
    "idx=5 # word index of interest\n",
    "\n",
    "target = get_target(int_text, idx=idx, window_size=5)\n",
    "print('Target: ', target)  # you should get some indices around the idx"
   ]
  },
  {
   "cell_type": "markdown",
   "metadata": {},
   "source": [
    "### Generating Batches \n",
    "\n",
    "Here's a generator function that returns batches of input and target data for our model, using the `get_target` function from above. The idea is that it grabs `batch_size` words from a words list. Then for each of those batches, it gets the target words in a window."
   ]
  },
  {
   "cell_type": "code",
   "execution_count": 8,
   "metadata": {},
   "outputs": [],
   "source": [
    "def get_batches(words, batch_size, window_size=5):\n",
    "    ''' Create a generator of word batches as a tuple (inputs, targets) '''\n",
    "    \n",
    "    n_batches = len(words)//batch_size\n",
    "    \n",
    "    # only full batches\n",
    "    words = words[:n_batches*batch_size]\n",
    "    \n",
    "    for idx in range(0, len(words), batch_size):\n",
    "        x, y = [], []\n",
    "        batch = words[idx:idx+batch_size]\n",
    "        for ii in range(len(batch)):\n",
    "            batch_x = batch[ii]\n",
    "            batch_y = get_target(batch, ii, window_size)\n",
    "            y.extend(batch_y)\n",
    "            x.extend([batch_x]*len(batch_y))\n",
    "        yield x, y\n",
    "    "
   ]
  },
  {
   "cell_type": "code",
   "execution_count": 9,
   "metadata": {},
   "outputs": [
    {
     "name": "stdout",
     "output_type": "stream",
     "text": [
      "x\n",
      " [0, 1, 1, 2, 2, 2, 3, 3, 3]\n",
      "y\n",
      " [1, 0, 2, 0, 1, 3, 0, 1, 2]\n"
     ]
    }
   ],
   "source": [
    "int_text = [i for i in range(20)]\n",
    "x,y = next(get_batches(int_text, batch_size=4, window_size=5))\n",
    "\n",
    "print('x\\n', x)\n",
    "print('y\\n', y)"
   ]
  },
  {
   "cell_type": "markdown",
   "metadata": {},
   "source": [
    "## Building the graph\n",
    "\n",
    "Below is an approximate diagram of the general structure of our network.\n",
    "<img src=\"assets/skip_gram_net_arch.png\" width=60%>\n",
    "\n",
    ">* The input words are passed in as batches of input word tokens. \n",
    "* This will go into a hidden layer of linear units (our embedding layer). \n",
    "* Then, finally into a softmax output layer. \n",
    "\n",
    "We'll use the softmax layer to make a prediction about the context words by sampling, as usual.\n",
    "\n",
    "The idea here is to train the embedding layer weight matrix to find efficient representations for our words. We can discard the softmax layer because we don't really care about making predictions with this network. We just want the embedding matrix so we can use it in _other_ networks we build using this dataset."
   ]
  },
  {
   "cell_type": "markdown",
   "metadata": {},
   "source": [
    "---\n",
    "## Validation\n",
    "\n",
    "Here, I'm creating a function that will help us observe our model as it learns. We're going to choose a few common words and few uncommon words. Then, we'll print out the closest words to them using the cosine similarity: \n",
    "\n",
    "$$\n",
    "\\mathrm{similarity} = \\cos(\\theta) = \\frac{\\vec{a} \\cdot \\vec{b}}{|\\vec{a}||\\vec{b}|}\n",
    "$$\n",
    "\n",
    "\n",
    "We can encode the validation words as vectors $\\vec{a}$ using the embedding table, then calculate the similarity with each word vector $\\vec{b}$ in the embedding table. With the similarities, we can print out the validation words and words in our embedding table semantically similar to those words. It's a nice way to check that our embedding table is grouping together words with similar semantic meanings."
   ]
  },
  {
   "cell_type": "code",
   "execution_count": 10,
   "metadata": {},
   "outputs": [],
   "source": [
    "def cosine_similarity(embedding, valid_size=16, valid_window=100, device='cpu'):\n",
    "    \"\"\" Returns the cosine similarity of validation words with words in the embedding matrix.\n",
    "        Here, embedding should be a PyTorch embedding module.\n",
    "    \"\"\"\n",
    "    \n",
    "    # Here we're calculating the cosine similarity between some random words and \n",
    "    # our embedding vectors. With the similarities, we can look at what words are\n",
    "    # close to our random words.\n",
    "    \n",
    "    # sim = (a . b) / |a||b|\n",
    "    \n",
    "    embed_vectors = embedding.weight\n",
    "    \n",
    "    # magnitude of embedding vectors, |b|\n",
    "    magnitudes = embed_vectors.pow(2).sum(dim=1).sqrt().unsqueeze(0)\n",
    "    \n",
    "    # pick N words from our ranges (0,window) and (1000,1000+window). lower id implies more frequent \n",
    "    valid_examples = np.array(random.sample(range(valid_window), valid_size//2))\n",
    "    valid_examples = np.append(valid_examples,\n",
    "                               random.sample(range(1000,1000+valid_window), valid_size//2))\n",
    "    valid_examples = torch.LongTensor(valid_examples).to(device)\n",
    "    \n",
    "    valid_vectors = embedding(valid_examples)\n",
    "    similarities = torch.mm(valid_vectors, embed_vectors.t())/magnitudes\n",
    "        \n",
    "    return valid_examples, similarities"
   ]
  },
  {
   "cell_type": "markdown",
   "metadata": {},
   "source": [
    "## SkipGram model\n",
    "\n",
    "Define and train the SkipGram model. \n",
    "> You'll need to define an [embedding layer](https://pytorch.org/docs/stable/nn.html#embedding) and a final, softmax output layer.\n",
    "\n",
    "An Embedding layer takes in a number of inputs, importantly:\n",
    "* **num_embeddings** – the size of the dictionary of embeddings, or how many rows you'll want in the embedding weight matrix\n",
    "* **embedding_dim** – the size of each embedding vector; the embedding dimension"
   ]
  },
  {
   "cell_type": "code",
   "execution_count": 14,
   "metadata": {},
   "outputs": [],
   "source": [
    "import torch\n",
    "from torch import nn\n",
    "import torch.optim as optim"
   ]
  },
  {
   "cell_type": "code",
   "execution_count": 15,
   "metadata": {},
   "outputs": [],
   "source": [
    "class SkipGram(nn.Module):\n",
    "    def __init__(self, n_vocab, n_embed):\n",
    "        super().__init__()\n",
    "        \n",
    "        # complete this SkipGram model\n",
    "        self.embed = nn.Embedding(n_vocab, n_embed)\n",
    "        self.fc = nn.Linear(n_embed, n_vocab)\n",
    "        self.log_softmax = nn.LogSoftmax(dim=1)\n",
    "    \n",
    "    def forward(self, x):\n",
    "        \n",
    "        # define the forward behavior\n",
    "        x = self.embed(x)\n",
    "        scores = self.fc(x)\n",
    "        probs = self.log_softmax(scores)\n",
    "        \n",
    "        return probs"
   ]
  },
  {
   "cell_type": "markdown",
   "metadata": {},
   "source": [
    "### Training\n",
    "\n",
    "Below is our training loop, and I recommend that you train on GPU, if available.\n",
    "\n",
    "**Note that, because we applied a softmax function to our model output, we are using NLLLoss** as opposed to cross entropy. This is because Softmax  in combination with NLLLoss = CrossEntropy loss ."
   ]
  },
  {
   "cell_type": "code",
   "execution_count": 16,
   "metadata": {
    "scrolled": false
   },
   "outputs": [
    {
     "name": "stdout",
     "output_type": "stream",
     "text": [
      "of | storybook, hammers, drava, thorny, ranching\n",
      "between | tahitian, sennett, licentious, pipelining, eur\n",
      "two | jaz, shuster, du, lcd, accelerates\n",
      "who | rttemberg, haihowak, creativity, defusal, coru\n",
      "by | relativistic, punishments, stretched, overextended, outline\n",
      "during | authoritarian, yezhov, toto, cookie, indigo\n",
      "their | nader, brezhoneg, typhus, unimpressed, terminates\n",
      "it | repeating, longmans, fibre, unread, assistant\n",
      "recorded | stand, excellency, multiverses, fornication, spectroscopic\n",
      "institute | parallels, albemarle, bronzes, philatelic, exalt\n",
      "operations | piper, perpetuating, nickel, cumming, glover\n",
      "ice | rahula, coppersmith, mather, unhelpful, dewdney\n",
      "mainly | pergamum, kihei, tracks, genes, subcontinent\n",
      "arts | kiang, jam, mcveigh, quadra, ergative\n",
      "resources | haughton, grand, zaires, vulgaris, alters\n",
      "notes | arranges, minuet, germ, penal, smithson\n",
      "...\n",
      "years | glorioso, operands, hidalgo, alekhine, cern\n",
      "have | mews, triggering, flip, forefather, groupoids\n",
      "is | preoccupations, repress, toklas, smoot, tollens\n",
      "use | xx, armament, regulators, orel, crofts\n",
      "called | dicke, nat, boasts, land, kumar\n",
      "three | ensigns, oceanography, alleys, rhymed, cactus\n",
      "only | tradeoff, conflated, mend, thief, abnormal\n",
      "as | parisians, outfielders, summoning, inbreeding, acceptable\n",
      "powers | melilla, meteoric, nadab, bellow, snapping\n",
      "governor | shrunken, comparison, technically, quicken, zoran\n",
      "units | clause, karabakh, yasunori, object, encoded\n",
      "bill | fame, langdon, licklider, soundhole, disability\n",
      "experience | luka, item, contemporary, curiosities, heisman\n",
      "defense | depict, nine, esperantist, beware, halophilic\n",
      "writers | inflationary, talal, fights, criollos, fortress\n",
      "paris | yat, ration, ijtihad, ripen, internetwork\n",
      "...\n",
      "see | banners, computations, sportswriters, counterfactual, threatens\n",
      "time | buttocks, reply, fearful, tithonus, uncanonical\n",
      "which | moshe, jonsson, tracy, intervened, manifesto\n",
      "four | jester, speght, origination, boroughs, deepest\n",
      "be | speculating, versatility, repentant, kafir, rulemaking\n",
      "the | blass, ravaging, hadron, correct, friction\n",
      "more | cellists, luft, spectroscopy, patricians, taca\n",
      "are | outnumbered, aoc, disciplined, gehinom, metaplot\n",
      "mainly | pergamum, perform, kihei, genes, auxiliary\n",
      "marriage | tubulidentata, apollonian, glam, yusef, emesa\n",
      "freedom | jousting, punk, hortense, rhythmically, kono\n",
      "units | karabakh, frankness, landholding, object, yasunori\n",
      "test | westernization, milione, binge, impeded, knit\n",
      "award | indicator, affan, dedekind, bromine, saiyaman\n",
      "placed | counterweight, troglodytes, assize, protectress, pakistan\n",
      "police | funniest, hydras, flagg, jaian, sadly\n",
      "...\n",
      "when | unaccountable, stock, diomedea, elephantine, crawler\n",
      "to | expense, solidify, inland, culinary, hypnosis\n",
      "other | ottawa, stuyvesant, proudhon, quark, augmented\n",
      "an | collie, deprogrammings, beachhead, natufian, ethnically\n",
      "at | unsaturated, mariculture, astronauts, marketing, worsen\n",
      "had | lucas, donning, nell, judas, ernesto\n",
      "new | homepage, tino, cannonball, cub, firefight\n",
      "that | enthusiasts, pfc, recreates, eero, jerrold\n",
      "http | lanier, soderbergh, york, freemen, ensue\n",
      "pope | uart, philandering, rabba, crioulo, reaction\n",
      "construction | torontonians, lagrand, yan, intensive, orazio\n",
      "articles | elis, tarantino, folkways, osf, nazis\n",
      "test | westernization, binge, impeded, milione, knit\n",
      "marriage | apollonian, tubulidentata, reigned, glam, growing\n",
      "know | olympians, pineal, interdental, beforehand, boerhaave\n",
      "ocean | laura, superlatives, maimonides, net, sieges\n",
      "...\n",
      "american | shale, impressionists, armouries, windsor, net\n",
      "to | expense, leopoldine, solidify, hypnosis, stereoisomers\n",
      "or | intermediate, incorporates, okedo, consecration, casein\n",
      "all | infidels, involuntarily, omnivores, scanner, quakers\n",
      "not | inst, charge, diabetes, rat, brazen\n",
      "nine | defense, deteriorating, oracle, ltd, nato\n",
      "first | francophonie, shasta, assembl, won, xlr\n",
      "use | armament, xx, unreleased, orel, suggestion\n",
      "cost | jabber, supposed, tipperary, picturesque, sulaiman\n",
      "police | funniest, archie, sadly, hydras, flagg\n",
      "running | rambouillet, mam, redman, guin, thermodynamic\n",
      "accepted | mcg, inception, sym, enlisting, caricature\n",
      "san | rijmen, comiskey, sensitivities, choruses, romagna\n",
      "lived | reaffirms, bethany, corollaries, transducers, gothic\n",
      "creation | grenada, tank, latent, reassure, disbands\n",
      "governor | shrunken, comparison, republican, technically, quicken\n",
      "...\n",
      "its | expects, posited, sixteenth, noticeably, combinator\n",
      "all | omnivores, involuntarily, infidels, averting, tychonoff\n",
      "some | qabbani, folklorist, formulated, himalayas, dago\n",
      "over | digraph, dismissive, lungs, sufferings, systran\n",
      "not | inst, rat, charge, losers, diabetes\n",
      "can | avoids, estelle, sysop, overhand, prevenient\n",
      "often | principle, hci, gramophone, federals, microscopes\n",
      "would | inept, schwerner, bembo, assumptions, assert\n",
      "applied | kipchak, reassessment, wedged, trademarked, riveted\n",
      "know | olympians, pineal, interdental, dissipation, boerhaave\n",
      "powers | legislative, etruria, comoros, melilla, nadab\n",
      "recorded | fornication, hushed, excellency, mui, thrush\n",
      "liberal | posts, vauxhall, medicine, navel, extremists\n",
      "operating | communicate, misspelled, build, isotropic, duchamp\n",
      "file | gdi, reinvention, sniff, encyclopedists, separations\n",
      "scale | moll, congregationalism, icrc, iy, flywheels\n",
      "...\n",
      "not | charge, rat, inst, therapy, pharisees\n",
      "other | proudhon, quark, stuyvesant, ottawa, augmented\n",
      "d | dulles, hexane, lithographs, fujita, historique\n",
      "war | plowman, fernandes, victor, suva, acquaintance\n",
      "are | outnumbered, aoc, disciplined, essentially, liquid\n",
      "been | frozen, rennet, anaheim, grab, portus\n",
      "if | pathogenic, eastenders, vy, v, glidrose\n",
      "often | principle, gramophone, hci, hell, federals\n",
      "marriage | apollonian, tubulidentata, reigned, pdl, glam\n",
      "taking | battlefront, troubadors, baar, pleading, currier\n",
      "paris | internetwork, yat, snider, ijtihad, ripen\n",
      "existence | doenjang, spongiform, pistons, expands, intercalation\n",
      "frac | escalating, alif, pitied, anson, buchnera\n",
      "prince | opacity, trucial, checksums, zeng, ionosphere\n",
      "applied | kipchak, reassessment, wedged, disbarment, trademarked\n",
      "operations | piper, nickel, perpetuating, ivanovich, completion\n",
      "...\n",
      "may | designation, cavalcanti, retrospect, shop, centurion\n",
      "after | zane, donnie, believer, lcm, summing\n",
      "had | lucas, ernesto, nell, donning, fled\n",
      "three | oceanography, icrc, edison, rhymed, refurbished\n",
      "states | harpersanfrancisco, seller, perpetuated, bouncer, abandonware\n",
      "during | annapolis, toto, cookie, indigo, authoritarian\n",
      "two | annually, du, uplink, tentatively, accelerates\n",
      "than | dock, codifying, stranglehold, throughout, bestsellers\n",
      "issue | casc, schaff, salmon, face, thoroughbreds\n",
      "event | cumann, mackie, commodores, of, steals\n",
      "ice | rahula, coppersmith, player, unhelpful, dewdney\n",
      "behind | retire, eponym, candid, before, reticulata\n",
      "operating | build, communicate, misspelled, homeward, isotropic\n",
      "cost | jabber, tipperary, mauritania, supposed, protagoras\n",
      "notes | minuet, arranges, smithson, dnc, overrides\n",
      "magazine | billet, adrenaline, ipc, saith, jojo\n",
      "...\n",
      "been | frozen, rennet, portus, grab, lifespan\n",
      "when | mexicans, umayyad, unaccountable, stock, gilded\n",
      "most | madge, repairs, schism, crossley, chicxulub\n",
      "three | one, oceanography, edison, icrc, two\n",
      "may | designation, retrospect, cavalcanti, shop, centurion\n",
      "but | subtly, microorganisms, resembles, gaeilge, incapable\n",
      "a | simulation, glitter, regard, mixes, glise\n",
      "time | fearful, tithonus, reply, buttocks, allegories\n",
      "hold | panipat, uncertainty, awry, benghazi, browse\n",
      "articles | elis, folkways, tarantino, hydroelectricity, osf\n",
      "construction | torontonians, lagrand, intensive, jantz, orazio\n",
      "institute | albemarle, credited, crtc, tamasheq, software\n",
      "existence | doenjang, spongiform, expands, permanently, jewishness\n",
      "pressure | respiration, wootz, hybrid, gradients, fondue\n",
      "file | gdi, separations, encyclopedists, tremendously, substitute\n",
      "joseph | flannery, lemmas, kushan, finals, brubaker\n",
      "...\n",
      "at | unsaturated, veterinary, marketing, reinhardt, kraus\n",
      "was | executions, seized, esdras, halabja, osu\n",
      "when | unaccountable, stock, darul, mexicans, umayyad\n",
      "zero | microstates, hexane, msu, isaacs, six\n",
      "this | jermaine, aimee, souness, psara, they\n",
      "is | toklas, waley, smoot, inequality, preoccupations\n",
      "six | three, nine, tudor, archbishop, geographer\n",
      "known | rutland, intrusive, skat, urine, expedited\n",
      "proposed | marginalize, milla, mercantilist, calwell, gh\n",
      "brother | struct, pausanias, automates, radiator, broly\n",
      "scale | congregationalism, moll, icrc, flywheels, vents\n",
      "defense | nine, halophilic, depict, mlb, esperantist\n",
      "consists | alor, assemblage, inversely, cpes, archipel\n",
      "universe | mono, encore, longing, confident, naturalistic\n",
      "freedom | jousting, nominates, communal, alanis, vocally\n",
      "engineering | poulenc, ky, bodily, renovations, bicentenary\n",
      "...\n",
      "a | mixes, olney, glitter, simulation, akio\n",
      "time | fearful, tithonus, reply, buttocks, allegories\n",
      "four | one, two, seven, zero, deepest\n",
      "after | zane, donnie, believer, africa, summing\n",
      "were | sudeten, nymph, philo, magdalena, visigothic\n",
      "he | coombe, norfolk, burma, marylebone, slam\n",
      "many | thermidor, aztec, annuities, tin, sibling\n",
      "its | expects, sixteenth, noticeably, clam, sprint\n",
      "mathematics | overdubbed, restructured, deflate, insular, valign\n",
      "account | jutta, letters, begs, hessian, created\n",
      "pre | toc, sacerdotal, springing, common, superhighway\n",
      "know | olympians, say, pineal, dissipation, beforehand\n",
      "pope | uart, instytut, rabba, straus, arbitral\n",
      "older | heated, despatch, laughs, socony, sugar\n",
      "except | neanderthalensis, quince, macgillivray, miseries, hne\n",
      "additional | zimbardo, northumberland, allosteric, rand, fingerprinting\n",
      "...\n",
      "their | mints, closely, nader, nakajima, turkey\n",
      "who | terribly, rttemberg, needless, undying, him\n",
      "that | compensated, pfc, enthusiasts, propagandist, scriptural\n",
      "other | proudhon, quark, stuyvesant, mem, reductionism\n",
      "of | massed, sumner, demesne, absorbed, prado\n",
      "with | navajo, extravagant, redrawing, gosh, exceptions\n",
      "if | orbited, vy, pathogenic, glidrose, eastenders\n",
      "they | herrick, pyrrhic, those, interventionism, wailing\n",
      "operating | build, communicate, woz, window, homeward\n",
      "existence | spongiform, jewishness, doenjang, pistons, electron\n",
      "shows | vallabhbhai, obsessive, artists, immunised, gabba\n",
      "ocean | laura, superlatives, net, divide, toughness\n",
      "hold | panipat, uncertainty, awry, stratified, benghazi\n",
      "brother | struct, pausanias, bandmates, broly, automates\n",
      "marriage | reigned, illegitimate, yusef, tubulidentata, pdl\n",
      "know | olympians, say, pineal, dissipation, beforehand\n",
      "...\n",
      "world | alleanza, parson, brocklin, events, sledgehammer\n",
      "i | leniency, catalunya, lucilla, signifies, reverence\n",
      "from | fractals, spheres, rsha, baptist, sopranino\n",
      "use | armament, xx, tnf, suggestion, orel\n",
      "and | slave, pashtunistan, shia, japan, resources\n",
      "most | phloem, repairs, handakuten, madge, schism\n",
      "has | qos, thirties, administration, parliamentarism, community\n",
      "time | fearful, reply, tithonus, allegories, buttocks\n",
      "consists | alor, assemblage, inversely, archipel, cpes\n",
      "institute | albemarle, crtc, credited, boasts, piccolo\n",
      "quite | geronimo, hural, dissimilar, closing, patchy\n",
      "frac | escalating, alif, pitied, inflammatory, bilinear\n",
      "event | commodores, teg, take, mackie, cumann\n",
      "file | gdi, separations, sup, substitute, encyclopedists\n",
      "bible | elder, pseudoephedrine, laia, bst, wrote\n",
      "taking | battlefront, troubadors, pleading, haereses, unrest\n",
      "...\n",
      "his | he, nihon, chartist, toughest, resigned\n",
      "are | groups, outnumbered, aoc, intransitive, structured\n",
      "which | smegma, codata, gatling, moshe, diglossia\n",
      "years | expectancy, glorioso, million, hidalgo, clementine\n",
      "history | edition, timeframe, contents, playboys, rica\n",
      "see | computations, banners, sportswriters, fatima, counterfactual\n",
      "had | alba, ernesto, on, lucas, judas\n",
      "if | vy, eastenders, orbited, pathogenic, v\n",
      "placed | counterweight, assize, troglodytes, juniors, mwh\n",
      "running | guin, redman, glancing, rambouillet, remastered\n",
      "numerous | waxless, supplementing, instrumental, dien, wagering\n",
      "freedom | nominates, jousting, embittered, citizen, alanis\n",
      "institute | albemarle, crtc, vilhelm, piccolo, teil\n",
      "dr | director, leopold, tropic, southey, leasing\n",
      "additional | zimbardo, starting, spc, infiniband, rand\n",
      "account | letters, begs, jutta, hessian, indivisible\n",
      "...\n"
     ]
    },
    {
     "ename": "KeyboardInterrupt",
     "evalue": "",
     "output_type": "error",
     "traceback": [
      "\u001b[0;31m---------------------------------------------------------------------------\u001b[0m",
      "\u001b[0;31mKeyboardInterrupt\u001b[0m                         Traceback (most recent call last)",
      "\u001b[0;32m<ipython-input-16-3188c6effeb0>\u001b[0m in \u001b[0;36m<module>\u001b[0;34m()\u001b[0m\n\u001b[1;32m     19\u001b[0m         \u001b[0msteps\u001b[0m \u001b[0;34m+=\u001b[0m \u001b[0;36m1\u001b[0m\u001b[0;34m\u001b[0m\u001b[0m\n\u001b[1;32m     20\u001b[0m         \u001b[0minputs\u001b[0m\u001b[0;34m,\u001b[0m \u001b[0mtargets\u001b[0m \u001b[0;34m=\u001b[0m \u001b[0mtorch\u001b[0m\u001b[0;34m.\u001b[0m\u001b[0mLongTensor\u001b[0m\u001b[0;34m(\u001b[0m\u001b[0minputs\u001b[0m\u001b[0;34m)\u001b[0m\u001b[0;34m,\u001b[0m \u001b[0mtorch\u001b[0m\u001b[0;34m.\u001b[0m\u001b[0mLongTensor\u001b[0m\u001b[0;34m(\u001b[0m\u001b[0mtargets\u001b[0m\u001b[0;34m)\u001b[0m\u001b[0;34m\u001b[0m\u001b[0m\n\u001b[0;32m---> 21\u001b[0;31m         \u001b[0minputs\u001b[0m\u001b[0;34m,\u001b[0m \u001b[0mtargets\u001b[0m \u001b[0;34m=\u001b[0m \u001b[0minputs\u001b[0m\u001b[0;34m.\u001b[0m\u001b[0mto\u001b[0m\u001b[0;34m(\u001b[0m\u001b[0mdevice\u001b[0m\u001b[0;34m)\u001b[0m\u001b[0;34m,\u001b[0m \u001b[0mtargets\u001b[0m\u001b[0;34m.\u001b[0m\u001b[0mto\u001b[0m\u001b[0;34m(\u001b[0m\u001b[0mdevice\u001b[0m\u001b[0;34m)\u001b[0m\u001b[0;34m\u001b[0m\u001b[0m\n\u001b[0m\u001b[1;32m     22\u001b[0m \u001b[0;34m\u001b[0m\u001b[0m\n\u001b[1;32m     23\u001b[0m         \u001b[0mlog_ps\u001b[0m \u001b[0;34m=\u001b[0m \u001b[0mmodel\u001b[0m\u001b[0;34m(\u001b[0m\u001b[0minputs\u001b[0m\u001b[0;34m)\u001b[0m\u001b[0;34m\u001b[0m\u001b[0m\n",
      "\u001b[0;31mKeyboardInterrupt\u001b[0m: "
     ]
    }
   ],
   "source": [
    "# check if GPU is available\n",
    "device = 'cuda' if torch.cuda.is_available() else 'cpu'\n",
    "\n",
    "embedding_dim=300 # you can change, if you want\n",
    "\n",
    "model = SkipGram(len(vocab_to_int), embedding_dim).to(device)\n",
    "criterion = nn.NLLLoss()\n",
    "optimizer = optim.Adam(model.parameters(), lr=0.003)\n",
    "\n",
    "print_every = 500\n",
    "steps = 0\n",
    "epochs = 5\n",
    "\n",
    "# train for some number of epochs\n",
    "for e in range(epochs):\n",
    "    \n",
    "    # get input and target batches\n",
    "    for inputs, targets in get_batches(train_words, 512):\n",
    "        steps += 1\n",
    "        inputs, targets = torch.LongTensor(inputs), torch.LongTensor(targets)\n",
    "        inputs, targets = inputs.to(device), targets.to(device)\n",
    "        \n",
    "        log_ps = model(inputs)\n",
    "        loss = criterion(log_ps, targets)\n",
    "        optimizer.zero_grad()\n",
    "        loss.backward()\n",
    "        optimizer.step()\n",
    "\n",
    "        if steps % print_every == 0:                  \n",
    "            # getting examples and similarities      \n",
    "            valid_examples, valid_similarities = cosine_similarity(model.embed, device=device)\n",
    "            _, closest_idxs = valid_similarities.topk(6) # topk highest similarities\n",
    "            \n",
    "            valid_examples, closest_idxs = valid_examples.to('cpu'), closest_idxs.to('cpu')\n",
    "            for ii, valid_idx in enumerate(valid_examples):\n",
    "                closest_words = [int_to_vocab[idx.item()] for idx in closest_idxs[ii]][1:]\n",
    "                print(int_to_vocab[valid_idx.item()] + \" | \" + ', '.join(closest_words))\n",
    "            print(\"...\")"
   ]
  },
  {
   "cell_type": "markdown",
   "metadata": {},
   "source": [
    "## Visualizing the word vectors\n",
    "\n",
    "Below we'll use T-SNE to visualize how our high-dimensional word vectors cluster together. T-SNE is used to project these vectors into two dimensions while preserving local stucture. Check out [this post from Christopher Olah](http://colah.github.io/posts/2014-10-Visualizing-MNIST/) to learn more about T-SNE and other ways to visualize high-dimensional data."
   ]
  },
  {
   "cell_type": "code",
   "execution_count": null,
   "metadata": {
    "collapsed": true
   },
   "outputs": [],
   "source": [
    "%matplotlib inline\n",
    "%config InlineBackend.figure_format = 'retina'\n",
    "\n",
    "import matplotlib.pyplot as plt\n",
    "from sklearn.manifold import TSNE"
   ]
  },
  {
   "cell_type": "code",
   "execution_count": null,
   "metadata": {
    "collapsed": true
   },
   "outputs": [],
   "source": [
    "# getting embeddings from the embedding layer of our model, by name\n",
    "embeddings = model.embed.weight.to('cpu').data.numpy()"
   ]
  },
  {
   "cell_type": "code",
   "execution_count": null,
   "metadata": {
    "collapsed": true
   },
   "outputs": [],
   "source": [
    "viz_words = 600\n",
    "tsne = TSNE()\n",
    "embed_tsne = tsne.fit_transform(embeddings[:viz_words, :])"
   ]
  },
  {
   "cell_type": "code",
   "execution_count": null,
   "metadata": {
    "collapsed": true
   },
   "outputs": [],
   "source": [
    "fig, ax = plt.subplots(figsize=(16, 16))\n",
    "for idx in range(viz_words):\n",
    "    plt.scatter(*embed_tsne[idx, :], color='steelblue')\n",
    "    plt.annotate(int_to_vocab[idx], (embed_tsne[idx, 0], embed_tsne[idx, 1]), alpha=0.7)"
   ]
  },
  {
   "cell_type": "code",
   "execution_count": null,
   "metadata": {
    "collapsed": true
   },
   "outputs": [],
   "source": []
  }
 ],
 "metadata": {
  "kernelspec": {
   "display_name": "Python 3",
   "language": "python",
   "name": "python3"
  },
  "language_info": {
   "codemirror_mode": {
    "name": "ipython",
    "version": 3
   },
   "file_extension": ".py",
   "mimetype": "text/x-python",
   "name": "python",
   "nbconvert_exporter": "python",
   "pygments_lexer": "ipython3",
   "version": "3.6.8"
  }
 },
 "nbformat": 4,
 "nbformat_minor": 2
}

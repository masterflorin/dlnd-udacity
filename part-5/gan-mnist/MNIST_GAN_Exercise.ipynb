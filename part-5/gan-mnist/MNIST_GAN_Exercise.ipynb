{
 "cells": [
  {
   "cell_type": "markdown",
   "metadata": {},
   "source": [
    "# Generative Adversarial Network\n",
    "\n",
    "In this notebook, we'll be building a generative adversarial network (GAN) trained on the MNIST dataset. From this, we'll be able to generate new handwritten digits!\n",
    "\n",
    "GANs were [first reported on](https://arxiv.org/abs/1406.2661) in 2014 from Ian Goodfellow and others in Yoshua Bengio's lab. Since then, GANs have exploded in popularity. Here are a few examples to check out:\n",
    "\n",
    "* [Pix2Pix](https://affinelayer.com/pixsrv/) \n",
    "* [CycleGAN & Pix2Pix in PyTorch, Jun-Yan Zhu](https://github.com/junyanz/pytorch-CycleGAN-and-pix2pix)\n",
    "* [A list of generative models](https://github.com/wiseodd/generative-models)\n",
    "\n",
    "The idea behind GANs is that you have two networks, a generator $G$ and a discriminator $D$, competing against each other. The generator makes \"fake\" data to pass to the discriminator. The discriminator also sees real training data and predicts if the data it's received is real or fake. \n",
    "> * The generator is trained to fool the discriminator, it wants to output data that looks _as close as possible_ to real, training data. \n",
    "* The discriminator is a classifier that is trained to figure out which data is real and which is fake. \n",
    "\n",
    "What ends up happening is that the generator learns to make data that is indistinguishable from real data to the discriminator.\n",
    "\n",
    "<img src='assets/gan_pipeline.png' width=70% />\n",
    "\n",
    "The general structure of a GAN is shown in the diagram above, using MNIST images as data. The latent sample is a random vector that the generator uses to construct its fake images. This is often called a **latent vector** and that vector space is called **latent space**. As the generator trains, it figures out how to map latent vectors to recognizable images that can fool the discriminator.\n",
    "\n",
    "If you're interested in generating only new images, you can throw out the discriminator after training. In this notebook, I'll show you how to define and train these adversarial networks in PyTorch and generate new images!"
   ]
  },
  {
   "cell_type": "code",
   "execution_count": 1,
   "metadata": {},
   "outputs": [],
   "source": [
    "%matplotlib inline\n",
    "\n",
    "import numpy as np\n",
    "import torch\n",
    "import matplotlib.pyplot as plt"
   ]
  },
  {
   "cell_type": "code",
   "execution_count": 2,
   "metadata": {},
   "outputs": [
    {
     "name": "stdout",
     "output_type": "stream",
     "text": [
      "Downloading http://yann.lecun.com/exdb/mnist/train-images-idx3-ubyte.gz\n",
      "Downloading http://yann.lecun.com/exdb/mnist/train-labels-idx1-ubyte.gz\n",
      "Downloading http://yann.lecun.com/exdb/mnist/t10k-images-idx3-ubyte.gz\n",
      "Downloading http://yann.lecun.com/exdb/mnist/t10k-labels-idx1-ubyte.gz\n",
      "Processing...\n",
      "Done!\n"
     ]
    }
   ],
   "source": [
    "from torchvision import datasets\n",
    "import torchvision.transforms as transforms\n",
    "\n",
    "# number of subprocesses to use for data loading\n",
    "num_workers = 0\n",
    "# how many samples per batch to load\n",
    "batch_size = 64\n",
    "\n",
    "# convert data to torch.FloatTensor\n",
    "transform = transforms.ToTensor()\n",
    "\n",
    "# get the training datasets\n",
    "train_data = datasets.MNIST(root='data', train=True,\n",
    "                                   download=True, transform=transform)\n",
    "\n",
    "# prepare data loader\n",
    "train_loader = torch.utils.data.DataLoader(train_data, batch_size=batch_size,\n",
    "                                           num_workers=num_workers)"
   ]
  },
  {
   "cell_type": "markdown",
   "metadata": {},
   "source": [
    "### Visualize the data"
   ]
  },
  {
   "cell_type": "code",
   "execution_count": 3,
   "metadata": {},
   "outputs": [
    {
     "data": {
      "text/plain": [
       "<matplotlib.image.AxesImage at 0x7f982ea71ba8>"
      ]
     },
     "execution_count": 3,
     "metadata": {},
     "output_type": "execute_result"
    },
    {
     "data": {
      "image/png": "[encoded data removed]",
      "text/plain": [
       "<matplotlib.figure.Figure at 0x7f982eafceb8>"
      ]
     },
     "metadata": {
      "needs_background": "light"
     },
     "output_type": "display_data"
    }
   ],
   "source": [
    "# obtain one batch of training images\n",
    "dataiter = iter(train_loader)\n",
    "images, labels = dataiter.next()\n",
    "images = images.numpy()\n",
    "\n",
    "# get one image from the batch\n",
    "img = np.squeeze(images[0])\n",
    "\n",
    "fig = plt.figure(figsize = (3,3)) \n",
    "ax = fig.add_subplot(111)\n",
    "ax.imshow(img, cmap='gray')"
   ]
  },
  {
   "cell_type": "markdown",
   "metadata": {},
   "source": [
    "---\n",
    "# Define the Model\n",
    "\n",
    "A GAN is comprised of two adversarial networks, a discriminator and a generator."
   ]
  },
  {
   "cell_type": "markdown",
   "metadata": {},
   "source": [
    "## Discriminator\n",
    "\n",
    "The discriminator network is going to be a pretty typical linear classifier. To make this network a universal function approximator, we'll need at least one hidden layer, and these hidden layers should have one key attribute:\n",
    "> All hidden layers will have a [Leaky ReLu](https://pytorch.org/docs/stable/nn.html#torch.nn.LeakyReLU) activation function applied to their outputs.\n",
    "\n",
    "<img src='assets/gan_network.png' width=70% />\n",
    "\n",
    "#### Leaky ReLu\n",
    "\n",
    "We should use a leaky ReLU to allow gradients to flow backwards through the layer unimpeded. A leaky ReLU is like a normal ReLU, except that there is a small non-zero output for negative input values.\n",
    "\n",
    "<img src='assets/leaky_relu.png' width=40% />\n",
    "\n",
    "#### Sigmoid Output\n",
    "\n",
    "We'll also take the approach of using a more numerically stable loss function on the outputs. Recall that we want the discriminator to output a value 0-1 indicating whether an image is _real or fake_. \n",
    "> We will ultimately use [BCEWithLogitsLoss](https://pytorch.org/docs/stable/nn.html#bcewithlogitsloss), which combines a `sigmoid` activation function **and** and binary cross entropy loss in one function. \n",
    "\n",
    "So, our final output layer should not have any activation function applied to it."
   ]
  },
  {
   "cell_type": "code",
   "execution_count": 12,
   "metadata": {},
   "outputs": [],
   "source": [
    "import torch.nn as nn\n",
    "import torch.nn.functional as F\n",
    "\n",
    "class Discriminator(nn.Module):\n",
    "\n",
    "    def __init__(self, input_size, hidden_dim, output_size):\n",
    "        super(Discriminator, self).__init__()\n",
    "        \n",
    "        # define all layers\n",
    "        self.hidden = nn.Linear(input_size, hidden_dim*4)\n",
    "        self.hidden2 = nn.Linear(hidden_dim*4, hidden_dim*2)\n",
    "        self.hidden3 = nn.Linear(hidden_dim*2, output_size)\n",
    "        self.leaky_relu = nn.LeakyReLU(0.2)\n",
    "        self.dropout = nn.Dropout(0.5)\n",
    "        \n",
    "    def forward(self, x):\n",
    "        # flatten image\n",
    "        x = x.view(-1, 28*28)\n",
    "        # pass x through all layers\n",
    "        # apply leaky relu activation to all hidden layers\n",
    "        x = self.leaky_relu(self.hidden(x))\n",
    "        x = self.dropout(x)\n",
    "        x = self.leaky_relu(self.hidden2(x))\n",
    "        x = self.dropout(x)\n",
    "        x = self.hidden3(x)\n",
    "        return x\n"
   ]
  },
  {
   "cell_type": "markdown",
   "metadata": {},
   "source": [
    "## Generator\n",
    "\n",
    "The generator network will be almost exactly the same as the discriminator network, except that we're applying a [tanh activation function](https://pytorch.org/docs/stable/nn.html#tanh) to our output layer.\n",
    "\n",
    "#### tanh Output\n",
    "The generator has been found to perform the best with $tanh$ for the generator output, which scales the output to be between -1 and 1, instead of 0 and 1. \n",
    "\n",
    "<img src='assets/tanh_fn.png' width=40% />\n",
    "\n",
    "Recall that we also want these outputs to be comparable to the *real* input pixel values, which are read in as normalized values between 0 and 1. \n",
    "> So, we'll also have to **scale our real input images to have pixel values between -1 and 1** when we train the discriminator. \n",
    "\n",
    "I'll do this in the training loop, later on."
   ]
  },
  {
   "cell_type": "code",
   "execution_count": 19,
   "metadata": {},
   "outputs": [],
   "source": [
    "class Generator(nn.Module):\n",
    "\n",
    "    def __init__(self, input_size, hidden_dim, output_size):\n",
    "        super(Generator, self).__init__()\n",
    "        \n",
    "        # define all layers\n",
    "        self.hidden = nn.Linear(input_size, hidden_dim*2)\n",
    "        self.hidden2 = nn.Linear(hidden_dim*2, hidden_dim*4)\n",
    "        self.hidden3 = nn.Linear(hidden_dim*4, output_size)\n",
    "        self.leaky_relu = nn.LeakyReLU(0.2)\n",
    "        self.dropout = nn.Dropout(0.5)\n",
    "\n",
    "    def forward(self, x):\n",
    "        # pass x through all layers\n",
    "        x = self.leaky_relu(self.hidden(x))\n",
    "        x = self.dropout(x)\n",
    "        x = self.leaky_relu(self.hidden2(x))\n",
    "        x = self.dropout(x)\n",
    "        x = self.hidden3(x)\n",
    "        # final layer should have tanh applied\n",
    "        x = F.tanh(x)\n",
    "        return x"
   ]
  },
  {
   "cell_type": "markdown",
   "metadata": {},
   "source": [
    "## Model hyperparameters"
   ]
  },
  {
   "cell_type": "code",
   "execution_count": 20,
   "metadata": {},
   "outputs": [],
   "source": [
    "# Discriminator hyperparams\n",
    "\n",
    "# Size of input image to discriminator (28*28)\n",
    "input_size = 28*28\n",
    "# Size of discriminator output (real or fake)\n",
    "d_output_size = 1\n",
    "# Size of *last* hidden layer in the discriminator\n",
    "d_hidden_size = 32\n",
    "\n",
    "# Generator hyperparams\n",
    "\n",
    "# Size of latent vector to give to generator\n",
    "z_size = 100\n",
    "# Size of discriminator output (generated image)\n",
    "g_output_size = 784\n",
    "# Size of *first* hidden layer in the generator\n",
    "g_hidden_size = 32"
   ]
  },
  {
   "cell_type": "markdown",
   "metadata": {},
   "source": [
    "## Build complete network\n",
    "\n",
    "Now we're instantiating the discriminator and generator from the classes defined above. Make sure you've passed in the correct input arguments."
   ]
  },
  {
   "cell_type": "code",
   "execution_count": 21,
   "metadata": {},
   "outputs": [
    {
     "name": "stdout",
     "output_type": "stream",
     "text": [
      "Discriminator(\n",
      "  (hidden): Linear(in_features=784, out_features=128, bias=True)\n",
      "  (hidden2): Linear(in_features=128, out_features=64, bias=True)\n",
      "  (hidden3): Linear(in_features=64, out_features=1, bias=True)\n",
      "  (leaky_relu): LeakyReLU(negative_slope=0.2)\n",
      "  (dropout): Dropout(p=0.5)\n",
      ")\n",
      "\n",
      "Generator(\n",
      "  (hidden): Linear(in_features=100, out_features=64, bias=True)\n",
      "  (hidden2): Linear(in_features=64, out_features=128, bias=True)\n",
      "  (hidden3): Linear(in_features=128, out_features=784, bias=True)\n",
      "  (leaky_relu): LeakyReLU(negative_slope=0.2)\n",
      "  (dropout): Dropout(p=0.5)\n",
      ")\n"
     ]
    }
   ],
   "source": [
    "# instantiate discriminator and generator\n",
    "D = Discriminator(input_size, d_hidden_size, d_output_size)\n",
    "G = Generator(z_size, g_hidden_size, g_output_size)\n",
    "\n",
    "# check that they are as you expect\n",
    "print(D)\n",
    "print()\n",
    "print(G)"
   ]
  },
  {
   "cell_type": "markdown",
   "metadata": {},
   "source": [
    "---\n",
    "## Discriminator and Generator Losses\n",
    "\n",
    "Now we need to calculate the losses. \n",
    "\n",
    "### Discriminator Losses\n",
    "\n",
    "> * For the discriminator, the total loss is the sum of the losses for real and fake images, `d_loss = d_real_loss + d_fake_loss`. \n",
    "* Remember that we want the discriminator to output 1 for real images and 0 for fake images, so we need to set up the losses to reflect that.\n",
    "\n",
    "<img src='assets/gan_pipeline.png' width=70% />\n",
    "\n",
    "The losses will by binary cross entropy loss with logits, which we can get with [BCEWithLogitsLoss](https://pytorch.org/docs/stable/nn.html#bcewithlogitsloss). This combines a `sigmoid` activation function **and** and binary cross entropy loss in one function.\n",
    "\n",
    "For the real images, we want `D(real_images) = 1`. That is, we want the discriminator to classify the the real images with a label = 1, indicating that these are real. To help the discriminator generalize better, the labels are **reduced a bit from 1.0 to 0.9**. For this, we'll use the parameter `smooth`; if True, then we should smooth our labels. In PyTorch, this looks like `labels = torch.ones(size) * 0.9`\n",
    "\n",
    "The discriminator loss for the fake data is similar. We want `D(fake_images) = 0`, where the fake images are the _generator output_, `fake_images = G(z)`. \n",
    "\n",
    "### Generator Loss\n",
    "\n",
    "The generator loss will look similar only with flipped labels. The generator's goal is to get `D(fake_images) = 1`. In this case, the labels are **flipped** to represent that the generator is trying to fool the discriminator into thinking that the images it generates (fakes) are real!"
   ]
  },
  {
   "cell_type": "code",
   "execution_count": 30,
   "metadata": {},
   "outputs": [],
   "source": [
    "# Calculate losses\n",
    "def real_loss(D_out, smooth=False):\n",
    "    batch_size = D_out.size(0)\n",
    "    if smooth:\n",
    "        labels = torch.ones(batch_size)*0.9\n",
    "    else:\n",
    "        labels = torch.ones(batch_size) \n",
    "    criterion = nn.BCEWithLogitsLoss()\n",
    "    loss = criterion(D_out.squeeze(), labels)\n",
    "    return loss\n",
    "\n",
    "def fake_loss(D_out):\n",
    "    batch_size = D_out.size(0)\n",
    "    labels = torch.zeros(batch_size) \n",
    "    criterion = nn.BCEWithLogitsLoss()\n",
    "    loss = criterion(D_out.squeeze(), labels)\n",
    "    return loss"
   ]
  },
  {
   "cell_type": "markdown",
   "metadata": {},
   "source": [
    "## Optimizers\n",
    "\n",
    "We want to update the generator and discriminator variables separately. So, we'll define two separate Adam optimizers."
   ]
  },
  {
   "cell_type": "code",
   "execution_count": 26,
   "metadata": {
    "scrolled": true
   },
   "outputs": [],
   "source": [
    "import torch.optim as optim\n",
    "\n",
    "# learning rate for optimizers\n",
    "lr = 0.002\n",
    "\n",
    "# Create optimizers for the discriminator and generator\n",
    "d_optimizer = optim.Adam(D.parameters(), lr)\n",
    "g_optimizer = optim.Adam(G.parameters(), lr)"
   ]
  },
  {
   "cell_type": "markdown",
   "metadata": {},
   "source": [
    "---\n",
    "## Training\n",
    "\n",
    "Training will involve alternating between training the discriminator and the generator. We'll use our functions `real_loss` and `fake_loss` to help us calculate the discriminator losses in all of the following cases.\n",
    "\n",
    "### Discriminator training\n",
    "1. Compute the discriminator loss on real, training images        \n",
    "2. Generate fake images\n",
    "3. Compute the discriminator loss on fake, generated images     \n",
    "4. Add up real and fake loss\n",
    "5. Perform backpropagation + an optimization step to update the discriminator's weights\n",
    "\n",
    "### Generator training\n",
    "1. Generate fake images\n",
    "2. Compute the discriminator loss on fake images, using **flipped** labels!\n",
    "3. Perform backpropagation + an optimization step to update the generator's weights\n",
    "\n",
    "#### Saving Samples\n",
    "\n",
    "As we train, we'll also print out some loss statistics and save some generated \"fake\" samples."
   ]
  },
  {
   "cell_type": "code",
   "execution_count": 31,
   "metadata": {
    "scrolled": true
   },
   "outputs": [
    {
     "name": "stdout",
     "output_type": "stream",
     "text": [
      "Epoch [    1/   40] | d_loss: 27.7579 | g_loss: 0.0001\n",
      "Epoch [    1/   40] | d_loss: 0.6194 | g_loss: 4.2605\n",
      "Epoch [    1/   40] | d_loss: 1.3317 | g_loss: 1.7713\n",
      "Epoch [    2/   40] | d_loss: 1.1146 | g_loss: 1.7681\n",
      "Epoch [    2/   40] | d_loss: 1.1412 | g_loss: 1.6675\n",
      "Epoch [    2/   40] | d_loss: 1.0227 | g_loss: 1.9503\n",
      "Epoch [    3/   40] | d_loss: 1.1305 | g_loss: 1.3655\n",
      "Epoch [    3/   40] | d_loss: 1.1885 | g_loss: 1.1803\n",
      "Epoch [    3/   40] | d_loss: 1.1470 | g_loss: 1.2004\n",
      "Epoch [    4/   40] | d_loss: 1.3187 | g_loss: 1.0853\n",
      "Epoch [    4/   40] | d_loss: 1.1172 | g_loss: 1.0959\n",
      "Epoch [    4/   40] | d_loss: 1.2785 | g_loss: 1.0002\n",
      "Epoch [    5/   40] | d_loss: 1.4190 | g_loss: 1.0864\n",
      "Epoch [    5/   40] | d_loss: 1.1928 | g_loss: 1.0848\n",
      "Epoch [    5/   40] | d_loss: 1.2004 | g_loss: 1.1617\n",
      "Epoch [    6/   40] | d_loss: 1.3386 | g_loss: 1.1272\n",
      "Epoch [    6/   40] | d_loss: 1.4341 | g_loss: 0.8903\n",
      "Epoch [    6/   40] | d_loss: 1.2958 | g_loss: 0.9384\n",
      "Epoch [    7/   40] | d_loss: 1.2877 | g_loss: 1.0953\n",
      "Epoch [    7/   40] | d_loss: 1.3080 | g_loss: 0.9418\n",
      "Epoch [    7/   40] | d_loss: 1.3103 | g_loss: 0.9760\n",
      "Epoch [    8/   40] | d_loss: 1.4028 | g_loss: 0.9738\n",
      "Epoch [    8/   40] | d_loss: 1.3263 | g_loss: 0.8604\n",
      "Epoch [    8/   40] | d_loss: 1.4561 | g_loss: 1.0785\n",
      "Epoch [    9/   40] | d_loss: 1.2620 | g_loss: 1.1981\n",
      "Epoch [    9/   40] | d_loss: 1.3215 | g_loss: 0.8215\n",
      "Epoch [    9/   40] | d_loss: 1.4731 | g_loss: 0.8605\n",
      "Epoch [   10/   40] | d_loss: 1.3637 | g_loss: 1.1961\n",
      "Epoch [   10/   40] | d_loss: 1.2374 | g_loss: 1.2709\n",
      "Epoch [   10/   40] | d_loss: 1.3350 | g_loss: 0.9080\n",
      "Epoch [   11/   40] | d_loss: 1.3035 | g_loss: 0.9884\n",
      "Epoch [   11/   40] | d_loss: 1.3207 | g_loss: 0.9936\n",
      "Epoch [   11/   40] | d_loss: 1.3748 | g_loss: 0.9274\n",
      "Epoch [   12/   40] | d_loss: 1.2074 | g_loss: 1.1005\n",
      "Epoch [   12/   40] | d_loss: 1.2275 | g_loss: 1.1300\n",
      "Epoch [   12/   40] | d_loss: 1.3455 | g_loss: 1.1088\n",
      "Epoch [   13/   40] | d_loss: 1.3574 | g_loss: 0.9083\n",
      "Epoch [   13/   40] | d_loss: 1.3314 | g_loss: 0.9432\n",
      "Epoch [   13/   40] | d_loss: 1.3589 | g_loss: 0.9582\n",
      "Epoch [   14/   40] | d_loss: 1.4512 | g_loss: 0.9061\n",
      "Epoch [   14/   40] | d_loss: 1.3136 | g_loss: 0.9745\n",
      "Epoch [   14/   40] | d_loss: 1.4054 | g_loss: 1.0664\n",
      "Epoch [   15/   40] | d_loss: 1.3177 | g_loss: 0.9722\n",
      "Epoch [   15/   40] | d_loss: 1.2645 | g_loss: 0.9604\n",
      "Epoch [   15/   40] | d_loss: 1.3522 | g_loss: 0.9237\n",
      "Epoch [   16/   40] | d_loss: 1.3713 | g_loss: 1.0777\n",
      "Epoch [   16/   40] | d_loss: 1.2981 | g_loss: 0.8815\n",
      "Epoch [   16/   40] | d_loss: 1.3818 | g_loss: 0.9044\n",
      "Epoch [   17/   40] | d_loss: 1.3351 | g_loss: 1.0308\n",
      "Epoch [   17/   40] | d_loss: 1.3325 | g_loss: 0.8528\n",
      "Epoch [   17/   40] | d_loss: 1.4412 | g_loss: 0.8018\n",
      "Epoch [   18/   40] | d_loss: 1.2937 | g_loss: 0.9193\n",
      "Epoch [   18/   40] | d_loss: 1.3428 | g_loss: 0.8867\n",
      "Epoch [   18/   40] | d_loss: 1.3490 | g_loss: 0.8870\n",
      "Epoch [   19/   40] | d_loss: 1.2915 | g_loss: 1.0016\n",
      "Epoch [   19/   40] | d_loss: 1.4577 | g_loss: 0.8328\n",
      "Epoch [   19/   40] | d_loss: 1.3953 | g_loss: 0.9492\n",
      "Epoch [   20/   40] | d_loss: 1.3279 | g_loss: 1.0982\n",
      "Epoch [   20/   40] | d_loss: 1.3735 | g_loss: 1.0925\n",
      "Epoch [   20/   40] | d_loss: 1.4113 | g_loss: 0.7914\n",
      "Epoch [   21/   40] | d_loss: 1.3116 | g_loss: 0.9958\n",
      "Epoch [   21/   40] | d_loss: 1.2598 | g_loss: 1.0663\n",
      "Epoch [   21/   40] | d_loss: 1.3831 | g_loss: 0.9638\n",
      "Epoch [   22/   40] | d_loss: 1.2686 | g_loss: 0.8664\n",
      "Epoch [   22/   40] | d_loss: 1.2456 | g_loss: 1.0685\n",
      "Epoch [   22/   40] | d_loss: 1.4001 | g_loss: 0.7467\n",
      "Epoch [   23/   40] | d_loss: 1.4069 | g_loss: 1.0417\n",
      "Epoch [   23/   40] | d_loss: 1.2738 | g_loss: 1.0345\n",
      "Epoch [   23/   40] | d_loss: 1.4823 | g_loss: 0.7355\n",
      "Epoch [   24/   40] | d_loss: 1.2783 | g_loss: 0.9996\n",
      "Epoch [   24/   40] | d_loss: 1.3493 | g_loss: 0.8310\n",
      "Epoch [   24/   40] | d_loss: 1.3320 | g_loss: 0.9305\n",
      "Epoch [   25/   40] | d_loss: 1.4868 | g_loss: 0.7999\n",
      "Epoch [   25/   40] | d_loss: 1.3036 | g_loss: 0.9259\n",
      "Epoch [   25/   40] | d_loss: 1.3777 | g_loss: 0.8019\n",
      "Epoch [   26/   40] | d_loss: 1.3272 | g_loss: 0.9869\n",
      "Epoch [   26/   40] | d_loss: 1.2862 | g_loss: 0.9328\n",
      "Epoch [   26/   40] | d_loss: 1.3399 | g_loss: 0.9991\n",
      "Epoch [   27/   40] | d_loss: 1.2408 | g_loss: 0.8718\n",
      "Epoch [   27/   40] | d_loss: 1.2898 | g_loss: 0.9196\n",
      "Epoch [   27/   40] | d_loss: 1.3513 | g_loss: 0.8470\n",
      "Epoch [   28/   40] | d_loss: 1.3400 | g_loss: 0.9346\n",
      "Epoch [   28/   40] | d_loss: 1.3463 | g_loss: 0.8870\n",
      "Epoch [   28/   40] | d_loss: 1.3003 | g_loss: 0.8601\n",
      "Epoch [   29/   40] | d_loss: 1.4237 | g_loss: 1.1794\n",
      "Epoch [   29/   40] | d_loss: 1.3051 | g_loss: 1.0281\n",
      "Epoch [   29/   40] | d_loss: 1.4889 | g_loss: 0.8566\n",
      "Epoch [   30/   40] | d_loss: 1.3630 | g_loss: 0.8458\n",
      "Epoch [   30/   40] | d_loss: 1.3579 | g_loss: 0.8652\n",
      "Epoch [   30/   40] | d_loss: 1.3795 | g_loss: 0.9955\n",
      "Epoch [   31/   40] | d_loss: 1.3302 | g_loss: 1.0274\n",
      "Epoch [   31/   40] | d_loss: 1.3216 | g_loss: 0.9178\n",
      "Epoch [   31/   40] | d_loss: 1.3476 | g_loss: 0.9350\n",
      "Epoch [   32/   40] | d_loss: 1.3993 | g_loss: 0.9067\n",
      "Epoch [   32/   40] | d_loss: 1.3352 | g_loss: 0.9233\n",
      "Epoch [   32/   40] | d_loss: 1.3601 | g_loss: 0.9713\n",
      "Epoch [   33/   40] | d_loss: 1.3188 | g_loss: 0.7958\n",
      "Epoch [   33/   40] | d_loss: 1.1644 | g_loss: 1.0607\n",
      "Epoch [   33/   40] | d_loss: 1.4984 | g_loss: 0.7820\n",
      "Epoch [   34/   40] | d_loss: 1.3568 | g_loss: 1.0293\n",
      "Epoch [   34/   40] | d_loss: 1.3745 | g_loss: 0.7413\n",
      "Epoch [   34/   40] | d_loss: 1.3866 | g_loss: 0.9404\n",
      "Epoch [   35/   40] | d_loss: 1.3853 | g_loss: 0.9112\n",
      "Epoch [   35/   40] | d_loss: 1.3075 | g_loss: 0.9725\n",
      "Epoch [   35/   40] | d_loss: 1.3575 | g_loss: 0.8607\n",
      "Epoch [   36/   40] | d_loss: 1.3868 | g_loss: 1.0110\n",
      "Epoch [   36/   40] | d_loss: 1.3034 | g_loss: 0.8940\n",
      "Epoch [   36/   40] | d_loss: 1.3747 | g_loss: 0.8002\n",
      "Epoch [   37/   40] | d_loss: 1.2924 | g_loss: 1.0115\n",
      "Epoch [   37/   40] | d_loss: 1.2625 | g_loss: 0.9816\n",
      "Epoch [   37/   40] | d_loss: 1.3107 | g_loss: 1.0730\n",
      "Epoch [   38/   40] | d_loss: 1.4417 | g_loss: 1.1011\n",
      "Epoch [   38/   40] | d_loss: 1.3114 | g_loss: 0.9654\n",
      "Epoch [   38/   40] | d_loss: 1.3964 | g_loss: 1.0314\n",
      "Epoch [   39/   40] | d_loss: 1.3509 | g_loss: 0.9488\n",
      "Epoch [   39/   40] | d_loss: 1.3237 | g_loss: 0.8735\n",
      "Epoch [   39/   40] | d_loss: 1.3717 | g_loss: 0.8704\n",
      "Epoch [   40/   40] | d_loss: 1.3511 | g_loss: 0.9782\n",
      "Epoch [   40/   40] | d_loss: 1.3426 | g_loss: 0.8799\n",
      "Epoch [   40/   40] | d_loss: 1.3431 | g_loss: 0.8745\n"
     ]
    }
   ],
   "source": [
    "import pickle as pkl\n",
    "\n",
    "# training hyperparams\n",
    "num_epochs = 40\n",
    "\n",
    "# keep track of loss and generated, \"fake\" samples\n",
    "samples = []\n",
    "losses = []\n",
    "\n",
    "print_every = 400\n",
    "\n",
    "# Get some fixed data for sampling. These are images that are held\n",
    "# constant throughout training, and allow us to inspect the model's performance\n",
    "sample_size=16\n",
    "fixed_z = np.random.uniform(-1, 1, size=(sample_size, z_size))\n",
    "fixed_z = torch.from_numpy(fixed_z).float()\n",
    "\n",
    "# train the network\n",
    "D.train()\n",
    "G.train()\n",
    "for epoch in range(num_epochs):\n",
    "    \n",
    "    for batch_i, (real_images, _) in enumerate(train_loader):\n",
    "                \n",
    "        batch_size = real_images.size(0)\n",
    "        \n",
    "        ## Important rescaling step ## \n",
    "        real_images = real_images*2 - 1  # rescale input images from [0,1) to [-1, 1)\n",
    "        \n",
    "        # ============================================\n",
    "        #            TRAIN THE DISCRIMINATOR\n",
    "        # ============================================\n",
    "        \n",
    "        d_optimizer.zero_grad()\n",
    "        \n",
    "        # 1. Train with real images\n",
    "\n",
    "        # Compute the discriminator losses on real images \n",
    "        # smooth the real labels\n",
    "        D_real = D(real_images)\n",
    "        d_real_loss = real_loss(D_real, smooth=True)\n",
    "        \n",
    "        # 2. Train with fake images\n",
    "        \n",
    "        # Generate fake images\n",
    "        z = np.random.uniform(-1, 1, size=(batch_size, z_size))\n",
    "        z = torch.from_numpy(z).float()\n",
    "        fake_images = G(z)\n",
    "        \n",
    "        # Compute the discriminator losses on fake images        \n",
    "        D_fake = D(fake_images)\n",
    "        d_fake_loss = fake_loss(D_fake)\n",
    "        \n",
    "        # add up loss and perform backprop\n",
    "        d_loss = d_real_loss + d_fake_loss\n",
    "        d_loss.backward()\n",
    "        d_optimizer.step()\n",
    "        \n",
    "        \n",
    "        # =========================================\n",
    "        #            TRAIN THE GENERATOR\n",
    "        # =========================================\n",
    "        g_optimizer.zero_grad()\n",
    "        \n",
    "        # 1. Train with fake images and flipped labels\n",
    "        \n",
    "        # Generate fake images\n",
    "        z = np.random.uniform(-1, 1, size=(batch_size, z_size))\n",
    "        z = torch.from_numpy(z).float()\n",
    "        fake_images = G(z)\n",
    "        \n",
    "        # Compute the discriminator losses on fake images \n",
    "        # using flipped labels!\n",
    "        D_fake = D(fake_images)\n",
    "        g_loss = real_loss(D_fake) # use real loss to flip labels\n",
    "        \n",
    "        # perform backprop\n",
    "        g_loss.backward()\n",
    "        g_optimizer.step()\n",
    "\n",
    "        # Print some loss stats\n",
    "        if batch_i % print_every == 0:\n",
    "            # print discriminator and generator loss\n",
    "            print('Epoch [{:5d}/{:5d}] | d_loss: {:6.4f} | g_loss: {:6.4f}'.format(\n",
    "                    epoch+1, num_epochs, d_loss.item(), g_loss.item()))\n",
    "\n",
    "    \n",
    "    ## AFTER EACH EPOCH##\n",
    "    # append discriminator loss and generator loss\n",
    "    losses.append((d_loss.item(), g_loss.item()))\n",
    "    \n",
    "    # generate and save sample, fake images\n",
    "    G.eval() # eval mode for generating samples\n",
    "    samples_z = G(fixed_z)\n",
    "    samples.append(samples_z)\n",
    "    G.train() # back to train mode\n",
    "\n",
    "\n",
    "# Save training generator samples\n",
    "with open('train_samples.pkl', 'wb') as f:\n",
    "    pkl.dump(samples, f)"
   ]
  },
  {
   "cell_type": "markdown",
   "metadata": {},
   "source": [
    "## Training loss\n",
    "\n",
    "Here we'll plot the training losses for the generator and discriminator, recorded after each epoch."
   ]
  },
  {
   "cell_type": "code",
   "execution_count": null,
   "metadata": {},
   "outputs": [],
   "source": [
    "fig, ax = plt.subplots()\n",
    "losses = np.array(losses)\n",
    "plt.plot(losses.T[0], label='Discriminator')\n",
    "plt.plot(losses.T[1], label='Generator')\n",
    "plt.title(\"Training Losses\")\n",
    "plt.legend()"
   ]
  },
  {
   "cell_type": "markdown",
   "metadata": {},
   "source": [
    "## Generator samples from training\n",
    "\n",
    "Here we can view samples of images from the generator. First we'll look at the images we saved during training."
   ]
  },
  {
   "cell_type": "code",
   "execution_count": 32,
   "metadata": {},
   "outputs": [],
   "source": [
    "# helper function for viewing a list of passed in sample images\n",
    "def view_samples(epoch, samples):\n",
    "    fig, axes = plt.subplots(figsize=(7,7), nrows=4, ncols=4, sharey=True, sharex=True)\n",
    "    for ax, img in zip(axes.flatten(), samples[epoch]):\n",
    "        img = img.detach()\n",
    "        ax.xaxis.set_visible(False)\n",
    "        ax.yaxis.set_visible(False)\n",
    "        im = ax.imshow(img.reshape((28,28)), cmap='Greys_r')"
   ]
  },
  {
   "cell_type": "code",
   "execution_count": 33,
   "metadata": {},
   "outputs": [],
   "source": [
    "# Load samples from generator, taken while training\n",
    "with open('train_samples.pkl', 'rb') as f:\n",
    "    samples = pkl.load(f)"
   ]
  },
  {
   "cell_type": "markdown",
   "metadata": {},
   "source": [
    "These are samples from the final training epoch. You can see the generator is able to reproduce numbers like 1, 7, 3, 2. Since this is just a sample, it isn't representative of the full range of images this generator can make."
   ]
  },
  {
   "cell_type": "code",
   "execution_count": 34,
   "metadata": {},
   "outputs": [
    {
     "data": {
      "image/png": "[encoded data removed]",
      "text/plain": [
       "<matplotlib.figure.Figure at 0x7f9825c969e8>"
      ]
     },
     "metadata": {
      "needs_background": "light"
     },
     "output_type": "display_data"
    }
   ],
   "source": [
    "# -1 indicates final epoch's samples (the last in the list)\n",
    "view_samples(-1, samples)"
   ]
  },
  {
   "cell_type": "markdown",
   "metadata": {},
   "source": [
    "Below I'm showing the generated images as the network was training, every 10 epochs."
   ]
  },
  {
   "cell_type": "code",
   "execution_count": 35,
   "metadata": {},
   "outputs": [
    {
     "data": {
      "image/png": "[encoded data removed]",
      "text/plain": [
       "<matplotlib.figure.Figure at 0x7f9825a05dd8>"
      ]
     },
     "metadata": {
      "needs_background": "light"
     },
     "output_type": "display_data"
    }
   ],
   "source": [
    "rows = 10 # split epochs into 10, so 100/10 = every 10 epochs\n",
    "cols = 6\n",
    "fig, axes = plt.subplots(figsize=(7,12), nrows=rows, ncols=cols, sharex=True, sharey=True)\n",
    "\n",
    "for sample, ax_row in zip(samples[::int(len(samples)/rows)], axes):\n",
    "    for img, ax in zip(sample[::int(len(sample)/cols)], ax_row):\n",
    "        img = img.detach()\n",
    "        ax.imshow(img.reshape((28,28)), cmap='Greys_r')\n",
    "        ax.xaxis.set_visible(False)\n",
    "        ax.yaxis.set_visible(False)"
   ]
  },
  {
   "cell_type": "markdown",
   "metadata": {},
   "source": [
    "It starts out as all noise. Then it learns to make only the center white and the rest black. You can start to see some number like structures appear out of the noise like 1s and 9s."
   ]
  },
  {
   "cell_type": "markdown",
   "metadata": {},
   "source": [
    "## Sampling from the generator\n",
    "\n",
    "We can also get completely new images from the generator by using the checkpoint we saved after training. **We just need to pass in a new latent vector $z$ and we'll get new samples**!"
   ]
  },
  {
   "cell_type": "code",
   "execution_count": 36,
   "metadata": {},
   "outputs": [
    {
     "data": {
      "image/png": "[encoded data removed]",
      "text/plain": [
       "<matplotlib.figure.Figure at 0x7f9825c96860>"
      ]
     },
     "metadata": {
      "needs_background": "light"
     },
     "output_type": "display_data"
    }
   ],
   "source": [
    "# randomly generated, new latent vectors\n",
    "sample_size=16\n",
    "rand_z = np.random.uniform(-1, 1, size=(sample_size, z_size))\n",
    "rand_z = torch.from_numpy(rand_z).float()\n",
    "\n",
    "G.eval() # eval mode\n",
    "# generated samples\n",
    "rand_images = G(rand_z)\n",
    "\n",
    "# 0 indicates the first set of samples in the passed in list\n",
    "# and we only have one batch of samples, here\n",
    "view_samples(0, [rand_images])"
   ]
  }
 ],
 "metadata": {
  "kernelspec": {
   "display_name": "Python 3",
   "language": "python",
   "name": "python3"
  },
  "language_info": {
   "codemirror_mode": {
    "name": "ipython",
    "version": 3
   },
   "file_extension": ".py",
   "mimetype": "text/x-python",
   "name": "python",
   "nbconvert_exporter": "python",
   "pygments_lexer": "ipython3",
   "version": "3.6.8"
  }
 },
 "nbformat": 4,
 "nbformat_minor": 2
}

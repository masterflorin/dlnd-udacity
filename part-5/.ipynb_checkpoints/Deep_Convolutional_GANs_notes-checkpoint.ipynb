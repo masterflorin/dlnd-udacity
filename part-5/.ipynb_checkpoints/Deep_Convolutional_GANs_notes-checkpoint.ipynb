{
 "cells": [
  {
   "cell_type": "markdown",
   "metadata": {},
   "source": [
    "### Deep Convolutional GANs (DCGANs)\n",
    "\n",
    "A DCGAN is similar to a GAN, in that it has Discriminator and Generator networks.\n",
    "\n",
    "<img src=\"part-5_images/dcgan_conv.png\" alt=\"DCGAN\" style=\"width: 500px;\"/>"
   ]
  },
  {
   "cell_type": "markdown",
   "metadata": {},
   "source": [
    "### DCGAN Discriminator\n",
    "\n",
    "<img src=\"part-5_images/dcgan_paper_discriminator.png\" alt=\"DCGAN Discriminator from paper\" style=\"width: 500px;\"/>\n",
    "\n",
    "\n",
    "From the original paper: \n",
    "- a DCGAN's discriminator uses a stride=2 in order to downsample the size of the input instead of using a max pooling layer\n",
    "- all layers have a **batch normalization** (scales the output to have a mean=0  and variance=0) and **leaky relu** (relu multiplied with a coefficient) applied to their outputs \n",
    "\n",
    "Below is a snippet from the original paper on DCGAN: https://arxiv.org/pdf/1511.06434.pdf\n",
    "\n",
    "<img src=\"part-5_images/stable_arch_dcgan.png\" alt=\"DCGAN Architecture from paper\" style=\"width: 650px;\"/>\n"
   ]
  },
  {
   "cell_type": "markdown",
   "metadata": {},
   "source": [
    "### DCGAN Generator\n",
    "\n",
    "The generator is essentially upsampling the input from the input 'z' by using **transpose convolutional** layers. Leaky relu, batch normalization and a tanh are applied in the original paper.\n",
    "\n",
    "<img src=\"part-5_images/dcgan_paper_generator.png\" alt=\"DCGAN Generator\" style=\"width: 650px;\"/>\n",
    "\n",
    "The way a DCGAN is shaped is pretty similar to the autoencoder, in the sense of downsampling and upsampling.\n"
   ]
  },
  {
   "cell_type": "markdown",
   "metadata": {},
   "source": [
    "### Batch normalization\n",
    "\n",
    "Batch normalization paper: https://arxiv.org/pdf/1502.03167.pdf\n",
    "\n"
   ]
  }
 ],
 "metadata": {
  "kernelspec": {
   "display_name": "Python 3",
   "language": "python",
   "name": "python3"
  },
  "language_info": {
   "codemirror_mode": {
    "name": "ipython",
    "version": 3
   },
   "file_extension": ".py",
   "mimetype": "text/x-python",
   "name": "python",
   "nbconvert_exporter": "python",
   "pygments_lexer": "ipython3",
   "version": "3.6.8"
  }
 },
 "nbformat": 4,
 "nbformat_minor": 2
}

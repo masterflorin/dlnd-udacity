{
 "cells": [
  {
   "cell_type": "markdown",
   "metadata": {},
   "source": [
    "## Groundbreaking CNN Architectures\n",
    "\n",
    "I created this notebook as place where I could store key notes about some of the most popular architectures in CNN. While this could have easily fit in the CNN notebook, I thought that it might be best if I kept that for fundamentals and this one for supplementary notes making it easier to follow."
   ]
  },
  {
   "cell_type": "markdown",
   "metadata": {},
   "source": [
    "**Benchmarks** for different [CNN architectures](https://github.com/jcjohnson/cnn-benchmarks).\n",
    "\n",
    "### AlexNet\n",
    "\n",
    "Paper:http://papers.nips.cc/paper/4824-imagenet-classification-with-deep-convolutional-neural-networks.pdf\n",
    "\n",
    "- Pioneered ReLU and Dropout\n",
    "- 11x11 windows\n",
    "\n",
    "### VGG\n",
    "\n",
    "Paper: https://arxiv.org/pdf/1409.1556.pdf\n",
    "\n",
    "- established the exclusive use of 3x3 windows\n",
    "- 2x2 pooling layers\n",
    "- 3 fully-connected layers \n",
    "\n",
    "### ResNet\n",
    "\n",
    "Paper: https://arxiv.org/pdf/1512.03385v1.pdf\n",
    "\n",
    "- solved the problem of [vanishing gradients](http://neuralnetworksanddeeplearning.com/chap5.html)\n",
    "- very deep CNN networks with 152 layers\n",
    "\n",
    "### DenseNet\n",
    "\n",
    "Paper: https://arxiv.org/pdf/1608.06993.pdf"
   ]
  }
 ],
 "metadata": {
  "kernelspec": {
   "display_name": "Python 3",
   "language": "python",
   "name": "python3"
  },
  "language_info": {
   "codemirror_mode": {
    "name": "ipython",
    "version": 3
   },
   "file_extension": ".py",
   "mimetype": "text/x-python",
   "name": "python",
   "nbconvert_exporter": "python",
   "pygments_lexer": "ipython3",
   "version": "3.6.8"
  }
 },
 "nbformat": 4,
 "nbformat_minor": 2
}

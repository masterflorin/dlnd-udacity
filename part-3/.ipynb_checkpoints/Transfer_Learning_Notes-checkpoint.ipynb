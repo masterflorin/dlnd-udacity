{
 "cells": [
  {
   "attachments": {},
   "cell_type": "markdown",
   "metadata": {},
   "source": [
    "### Transfer Learning\n",
    "\n",
    "It's a technique of adapting a pre-trained model to a new task. What does **pre-trained model** mean? These are models that have already been trained on a different dataset, most commonly [ImageNet](http://www.image-net.org/) due to the size of the database and number of classes (1000). Due to the sheer volume of data, these sort of models are difficult to train as they take a very long time even weeks.\n",
    "\n",
    "Famous architectures: VGG, ResNet, DenseNet etc.\n",
    "\n",
    "Essentially, what transfer learning allows us is to make good use of an already trained model and apply the knowledge on another task.\n",
    "\n",
    "### Useful Layers\n",
    "\n",
    "When considering transfer learning it is important to recognize that a pre-trained model has already been trained for a certain dataset so in order to get the most out of it we would have to replace the last layers because they were already doing a very specialized task so unless our dataset is very similar we will replace it, adjust the number of output classes, and train only the **classifier** (last layer). \n",
    "\n",
    "Therefore, we can use the model as a **feature detector** that has already done most of the work for us and correlate those outputs with the newly trained classifier. Below an example of VGG model.\n",
    "\n",
    "![Feature extractor](part3_images/feature_extractor.png)\n",
    "\n",
    "### Fine-Tuning\n",
    "\n",
    "A technique that involves slightly or completely modifying the parameters of the model. \n",
    "\n",
    "Applying transfer learning depends greatly on the size of the data set and the similarity between the original and the new data set. There are four main cases:\n",
    "\n",
    "1. New data set is small, new data is similar to original training data.\n",
    "2. New data set is small, new data is different from original training data.\n",
    "3. New data set is large, new data is similar to original training data.\n",
    "4. New data set is large, new data is different from original training data.\n",
    "\n",
    "![Guide to Transfer Learning](part3_images/guide_transfer_learning.png)\n",
    "\n",
    "**Case 1: new data is small and similar to original training data (End of ConvNet)**\n",
    "- replace the last layer with a new fully connected layer with the appropriate number of classes, then retrain it but keep the pre-trained model's weights and parameters frozen. \n",
    "- the weights are initialized randomly and we are only training the last layer's weights.\n",
    "\n",
    "**Case 2: new data is small but different from original training data (Start of ConvNet)**\n",
    "- remove all except for the first few layers of the pre-trained model and add a new fully connected layer to match the output classes\n",
    "- weights are initialized randomly, weights of the remaining pre-trained model are frozen so that we are only training the last layer.\n",
    "\n",
    "**Case 3: new data is large but similar to original training data (Fine-tune)**\n",
    "- remove and replace last fully connected layer with a new one that has the appropriate number of classes\n",
    "- randomly initialize the weights for the last layer\n",
    "- initialize the rest of the weights using the pre-trained weights (unfreezing)\n",
    "- re-train the entire neural network\n",
    "\n",
    "**Case 4: new data set is large but different from the original training data (Fine-tune or retrain)**\n",
    "- remove and replace last fully connected layer with a new one that has the appropriate number of classes\n",
    "- retrain the network from scratch with randomly initialized weights\n",
    "- there is the option of using the strategies from case 3"
   ]
  }
 ],
 "metadata": {
  "kernelspec": {
   "display_name": "Python 3",
   "language": "python",
   "name": "python3"
  },
  "language_info": {
   "codemirror_mode": {
    "name": "ipython",
    "version": 3
   },
   "file_extension": ".py",
   "mimetype": "text/x-python",
   "name": "python",
   "nbconvert_exporter": "python",
   "pygments_lexer": "ipython3",
   "version": "3.6.8"
  }
 },
 "nbformat": 4,
 "nbformat_minor": 2
}

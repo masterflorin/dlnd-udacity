{
 "cells": [
  {
   "cell_type": "markdown",
   "metadata": {},
   "source": [
    "### Sensitivy and specificity (Recap)\n",
    "\n",
    "In the cancer example, sensitivity and specificity are the following:\n",
    "\n",
    "    Sensitivity: Of all the people with cancer, how many were correctly diagnosed?\n",
    "    Specificity: Of all the people without cancer, how many were correctly diagnosed?\n",
    "    \n",
    "- TP: (True Positives) Sick people that we correctly diagnosed as sick.\n",
    "- TN: (True Negatives) Healthy people that we correctly diagnosed as healthy.\n",
    "- FP: (False Positives) Healthy people that we incorrectly diagnosed as sick.\n",
    "- FN: (False Negatives) Sick people that we incorrectly diagnosed as healthy.\n",
    "    \n",
    "![Sensitivity-specificity](part3_images/sensitivity-specificity.png)\n",
    "\n",
    "And precision and recall are the following:\n",
    "\n",
    "    Recall: Of all the people who have cancer, how many did we diagnose as having cancer?\n",
    "    Precision: Of all the people we diagnosed with cancer, how many actually had cancer?\n",
    "\n",
    "![Precision-recall](part3_images/precision-recall.png)\n",
    "\n",
    "\n",
    "ROC curve can also be called *Sensitivity-Specificity Curve*, this is due to the way we plot \n",
    "\n",
    "### Confusion matrix refresher\n",
    "\n",
    "![Confusion matrix > 2x2](part3_images/new-confusion-matrix.png)\n",
    "\n",
    "**Properties of a confusion matrix**:\n",
    "- The entries in every row must add to \n",
    "- Every entry is between 0 and 1\n",
    "\n",
    "\n"
   ]
  }
 ],
 "metadata": {
  "kernelspec": {
   "display_name": "Python 3",
   "language": "python",
   "name": "python3"
  },
  "language_info": {
   "codemirror_mode": {
    "name": "ipython",
    "version": 3
   },
   "file_extension": ".py",
   "mimetype": "text/x-python",
   "name": "python",
   "nbconvert_exporter": "python",
   "pygments_lexer": "ipython3",
   "version": "3.6.8"
  }
 },
 "nbformat": 4,
 "nbformat_minor": 2
}

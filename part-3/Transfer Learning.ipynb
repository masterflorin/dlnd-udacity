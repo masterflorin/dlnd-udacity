{
 "cells": [
  {
   "cell_type": "markdown",
   "metadata": {},
   "source": [
    "### Transfer Learning\n",
    "\n",
    "It's a technique of using a pre-trained model with its parameters on a dataset. What does **pre-trained model** mean? These are models that have already been trained on a different dataset, most commonly [ImageNet](http://www.image-net.org/) due to the size of the database and number of classes (1000). Due to the sheer volume of data, these sort of models are difficult to train as they take a very long time even weeks.\n",
    "\n",
    "Famous architectures: VGG, ResNet, DenseNet etc.\n",
    "\n",
    "Essentially, what transfer learning allows us is to make good use of an already trained model and apply the knowledge on another task.\n",
    "\n",
    "### Useful Layers\n",
    "\n",
    "When considering transfer learning it is important to recognize that a pre-trained model has already been trained for a certain dataset so in order to get the most out of it we would have to replace the last layers because they were already doing a very specialized task so unless our dataset is very similar we will replace it and train only the **classifier** (last layer). Therefore we can use the model as a **feature detector** that has already one most of the work and correlate those outputs with the newly trained classifier. Below an example of VGG model.\n",
    "\n",
    "![Feature extractor](part3_images/feature_extractor.png)\n",
    "\n",
    "### Fine-Tuning\n",
    "\n"
   ]
  }
 ],
 "metadata": {
  "kernelspec": {
   "display_name": "Python 3",
   "language": "python",
   "name": "python3"
  },
  "language_info": {
   "codemirror_mode": {
    "name": "ipython",
    "version": 3
   },
   "file_extension": ".py",
   "mimetype": "text/x-python",
   "name": "python",
   "nbconvert_exporter": "python",
   "pygments_lexer": "ipython3",
   "version": "3.6.8"
  }
 },
 "nbformat": 4,
 "nbformat_minor": 2
}
